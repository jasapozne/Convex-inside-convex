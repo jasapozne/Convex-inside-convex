{
 "cells": [
  {
   "cell_type": "code",
   "execution_count": 0,
   "metadata": {
    "collapsed": false
   },
   "outputs": [
   ],
   "source": [
    "p = MixedIntegerLinearProgram(maximization=True)\n",
    "k = p.new_variable(real=True)\n",
    "r, x, y = (k[i] for i in \"rxy\")\n",
    "p.set_objective(r)\n",
    "p.add_constraint(r >= 0)\n",
    "for ai, bi, ci in zip(a, b, c):\n",
    "    p.add_constraint(r * sqrt(ai^2 + bi^2) <= ci -ai*x-bi*y)\n",
    "p.solve()"
   ]
  },
  {
   "cell_type": "code",
   "execution_count": 0,
   "metadata": {
    "collapsed": false
   },
   "outputs": [
   ],
   "source": [
    "res = p.get_values(k)\n",
    "res"
   ]
  }
 ],
 "metadata": {
  "kernelspec": {
   "display_name": "SageMath 9.4",
   "language": "sagemath",
   "metadata": {
    "cocalc": {
     "description": "Open-source mathematical software system",
     "priority": 10,
     "url": "https://www.sagemath.org/"
    }
   },
   "name": "sage-9.4",
   "resource_dir": "/ext/jupyter/kernels/sage-9.4"
  }
 },
 "nbformat": 4,
 "nbformat_minor": 4
}