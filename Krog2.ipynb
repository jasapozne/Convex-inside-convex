{
 "cells": [
  {
   "cell_type": "code",
   "execution_count": 0,
   "metadata": {
    "collapsed": false
   },
   "outputs": [
   ],
   "source": [
    "# Nastavimo p za linearni program in definiramo spremenljivko k.\n",
    "p = MixedIntegerLinearProgram(maximization=True)\n",
    "k = p.new_variable(real=True)\n",
    "# Z r, x, y označimo polmer ter koordinati središča.\n",
    "r, x, y = (k[i] for i in \"rxy\")\n",
    "# Maksimiziramo r\n",
    "p.set_objective(r)\n",
    "# Dodamo pogoj, da je polmer nenegativen.\n",
    "p.add_constraint(r >= 0)\n",
    "# S for zanko se sprehodimo po polravninah lika ter za vsako dodamo pogoj.\n",
    "for ai, bi, ci in zip(a, b, c):\n",
    "    p.add_constraint(r * sqrt(ai^2 + bi^2) <= ci -ai*x-bi*y)\n",
    "p.solve()"
   ]
  },
  {
   "cell_type": "code",
   "execution_count": 0,
   "metadata": {
    "collapsed": false
   },
   "outputs": [
   ],
   "source": [
    "res = p.get_values(k)\n",
    "res"
   ]
  }
 ],
 "metadata": {
  "kernelspec": {
   "display_name": "SageMath 9.4",
   "language": "sagemath",
   "metadata": {
    "cocalc": {
     "description": "Open-source mathematical software system",
     "priority": 10,
     "url": "https://www.sagemath.org/"
    }
   },
   "name": "sage-9.4",
   "resource_dir": "/ext/jupyter/kernels/sage-9.4"
  }
 },
 "nbformat": 4,
 "nbformat_minor": 4
}
