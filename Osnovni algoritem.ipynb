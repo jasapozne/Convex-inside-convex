{
 "cells": [
  {
   "cell_type": "code",
   "execution_count": 0,
   "metadata": {
    "collapsed": false
   },
   "outputs": [
   ],
   "source": [
    "# Nastavimo p za linearen program v katerem iščemo največjo skalo.\n",
    "p = MixedIntegerLinearProgram(maximization=True)\n",
    "p.set_objective(p['k'])\n",
    "# Z dvema for zankama se sprehodimo po točkah zrcaljenega lika in polravninah lika v katerega zrcalimo.\n",
    "for xj, yj in tocke:\n",
    "    for ai, bi, ci in zip(a, b, c):\n",
    "        # Dodamo pogoj v p.\n",
    "        p.add_constraint(ai * (p['k'] * xj + p['x']) + bi * (p['k'] * yj + p['y']) <= ci)\n",
    "p.solve()\n"
   ]
  },
  {
   "cell_type": "code",
   "execution_count": 0,
   "metadata": {
    "collapsed": false
   },
   "outputs": [
   ],
   "source": [
    "k, x, y = p.get_values(p['k']), p.get_values(p['x']), p.get_values(p['y'])\n",
    "k, x, y"
   ]
  }
 ],
 "metadata": {
  "kernelspec": {
   "display_name": "SageMath 9.4",
   "language": "sagemath",
   "metadata": {
    "cocalc": {
     "description": "Open-source mathematical software system",
     "priority": 10,
     "url": "https://www.sagemath.org/"
    }
   },
   "name": "sage-9.4",
   "resource_dir": "/ext/jupyter/kernels/sage-9.4"
  }
 },
 "nbformat": 4,
 "nbformat_minor": 4
}
