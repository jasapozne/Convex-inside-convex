{
 "cells": [
  {
   "cell_type": "code",
   "execution_count": 0,
   "metadata": {
    "collapsed": false
   },
   "outputs": [
   ],
   "source": [
    "# krog = [sredisce,radij]\n",
    "\n",
    "# Nastavimo p za linearni program.\n",
    "p = MixedIntegerLinearProgram(maximization=True)\n",
    "p.set_objective(p['k'])\n",
    "\n",
    "# Z x0 in y0 označimo središče kroga.\n",
    "x0,y0 = krog[0]\n",
    "radij  = krog[1]\n",
    "# Središče kroga postavimo v koordinatno izhodišče in nato točko, ki je na poziciji (središče,0) zarotiramo za 360 stopinj okoli izhodišča, za vsako stopinjo posebej.\n",
    "# Na ta način dobimo dober približek za krog.\n",
    "tocke=[(0,0),radij]\n",
    "for j in range(1,360):\n",
    "    xi = tocke[1]*cos(j*pi/180)\n",
    "    yi = tocke[1]*sin(j*pi/180)\n",
    "    # Pri vsaki rotaciji točke dodamo v linearni program pogoj, ki vključuje to točko.\n",
    "    for ai, bi, ci in zip(a, b, c):\n",
    "        p.add_constraint(ai * (p['k'] * xi + p['x']) + bi * (p['k'] * yi + p['y']) <= ci)\n",
    "p.solve()\n",
    "\n",
    "\n",
    "\n"
   ]
  },
  {
   "cell_type": "code",
   "execution_count": 0,
   "metadata": {
    "collapsed": false
   },
   "outputs": [
   ],
   "source": [
    "k, x, y = p.get_values(p['k']), p.get_values(p['x']), p.get_values(p['y'])\n",
    "nov_radij = radij * k\n",
    "premik_sredisca = (x-x0,y-y0)\n",
    "novo_sredisce = (x,y)\n",
    "print(k,novo_sredisce, nov_radij)"
   ]
  }
 ],
 "metadata": {
  "kernelspec": {
   "display_name": "SageMath 9.4",
   "language": "sagemath",
   "metadata": {
    "cocalc": {
     "description": "Open-source mathematical software system",
     "priority": 10,
     "url": "https://www.sagemath.org/"
    }
   },
   "name": "sage-9.4",
   "resource_dir": "/ext/jupyter/kernels/sage-9.4"
  }
 },
 "nbformat": 4,
 "nbformat_minor": 4
}