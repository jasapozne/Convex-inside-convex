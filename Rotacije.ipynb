{
 "cells": [
  {
   "cell_type": "code",
   "execution_count": 0,
   "metadata": {
    "collapsed": false
   },
   "outputs": [
   ],
   "source": [
    "# Nastavimo p za linearen program v katerem iščemo največjo skalo.\n",
    "p = MixedIntegerLinearProgram(maximization=True)\n",
    "\n",
    "# S kot in t beležimo največjo skalo in kot pri katerem se ta zgodi.\n",
    "kot = None\n",
    "t = 0\n",
    "# Shranimo si število točk in definiramo nov seznam točke2.\n",
    "dolzina = len(tocke)\n",
    "tocke2=list(range(dolzina))\n",
    "\n",
    "p.set_objective(p['k'])\n",
    "\n",
    "# S for zanko se sprehodimo po kotih od 1 do 360 stopinj.\n",
    "for j in range(1,360):\n",
    "    # Pri vsakem kotu si shranimo nova ogljišča zarotiranega lika v tocke2.\n",
    "    for k in range(len(tocke)):\n",
    "        xii = (cos(j*pi/180)*tocke[k][0]-sin(j*pi/180)*tocke[k][1])\n",
    "        yii = (sin(j*pi/180)*tocke[k][0]+cos(j*pi/180)*tocke[k][1])\n",
    "        tocke2[k] =[xii,yii]\n",
    "        # Za vsako točko dodamo pogoje.\n",
    "    for xj, yj in tocke2:\n",
    "        for ai, bi, ci in zip(a, b, c):\n",
    "            p.add_constraint(ai * (p['k'] * xj + p['x']) + bi * (p['k'] * yj + p['y']) <= ci)\n",
    "    r = p.solve()\n",
    "    # Če naletimo na večjo skalo, si jo shranimo skupaj s kotom in ogljišči prezrcaljenega lika.\n",
    "    if r > t:\n",
    "        t = r\n",
    "        kot = j\n",
    "        k, x, y = p.get_values(p['k']), p.get_values(p['x']), p.get_values(p['y'])\n",
    "        nove_tocke=[]\n",
    "        for tocka in tocke2:\n",
    "            tocka[0] = (tocka[0]*k+x).numerical_approx()\n",
    "            tocka[1] = (tocka[1]*k +y).numerical_approx()\n",
    "            nove_tocke.append(tocka)\n",
    "    p.remove_constraints(range(p.number_of_constraints()))\n",
    "print(t,kot,k,x,y,nove_tocke)\n"
   ]
  }
 ],
 "metadata": {
  "kernelspec": {
   "display_name": "SageMath 9.4",
   "language": "sagemath",
   "metadata": {
    "cocalc": {
     "description": "Open-source mathematical software system",
     "priority": 10,
     "url": "https://www.sagemath.org/"
    }
   },
   "name": "sage-9.4",
   "resource_dir": "/ext/jupyter/kernels/sage-9.4"
  }
 },
 "nbformat": 4,
 "nbformat_minor": 4
}
