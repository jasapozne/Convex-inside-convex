{
 "cells": [
  {
   "cell_type": "markdown",
   "metadata": {
    "collapsed": false
   },
   "source": [
    "\\begin{align*}\n",
    "-x &\\le 0 \\\\\n",
    "-y &\\le 0 \\\\\n",
    "x + y &\\le 1 \\\\[1ex]\n",
    "a_i x + b_i y &\\le c_i\n",
    "\\end{align*}"
   ]
  },
  {
   "cell_type": "code",
   "execution_count": 5,
   "metadata": {
    "collapsed": false
   },
   "outputs": [
   ],
   "source": [
    "a = [-1, 0, 1]\n",
    "b = [0, -1, 1]\n",
    "c = [0, 0, 1]\n",
    "tocke = [(10, 0), (10, 1), (11, 0),(11,1)]"
   ]
  },
  {
   "cell_type": "code",
   "execution_count": 6,
   "metadata": {
    "collapsed": false
   },
   "outputs": [
   ],
   "source": [
    "p = MixedIntegerLinearProgram(maximization=True)"
   ]
  },
  {
   "cell_type": "code",
   "execution_count": 7,
   "metadata": {
    "collapsed": false
   },
   "outputs": [
    {
     "data": {
      "text/plain": [
       "0.5000000000000001"
      ]
     },
     "execution_count": 7,
     "metadata": {
     },
     "output_type": "execute_result"
    }
   ],
   "source": [
    "p.set_objective(p['k'])\n",
    "for xi, yi in tocke:\n",
    "    for ai, bi, ci in zip(a, b, c):\n",
    "        p.add_constraint(ai * (p['k'] * xi + p['x']) + bi * (p['k'] * yi + p['y']) <= ci)\n",
    "p.solve()\n"
   ]
  },
  {
   "cell_type": "code",
   "execution_count": 8,
   "metadata": {
    "collapsed": false
   },
   "outputs": [
    {
     "data": {
      "text/plain": [
       "(0.5000000000000001, -5.000000000000002, -0.0)"
      ]
     },
     "execution_count": 8,
     "metadata": {
     },
     "output_type": "execute_result"
    }
   ],
   "source": [
    "k, x, y = p.get_values(p['k']), p.get_values(p['x']), p.get_values(p['y'])\n",
    "k, x, y"
   ]
  },
  {
   "cell_type": "code",
   "execution_count": 9,
   "metadata": {
    "collapsed": false
   },
   "outputs": [
   ],
   "source": [
    "a = [-1, 0, 1]\n",
    "b = [0, -1, 1]\n",
    "c = [0, 0, 1]\n",
    "tocke = [(5,0),(5,1),(6,0),(6,1)]"
   ]
  },
  {
   "cell_type": "code",
   "execution_count": 10,
   "metadata": {
    "collapsed": false
   },
   "outputs": [
    {
     "name": "stdout",
     "output_type": "stream",
     "text": [
      "0.5000000000000001 180 3 3.000000000000001 0.5000000000000001 [[0.500000000000000, 0.500000000000000], [0.500000000000000, 0.000000000000000], [0.000000000000000, 0.500000000000000], [0.000000000000000, 0.000000000000000]]\n"
     ]
    }
   ],
   "source": [
    "p = MixedIntegerLinearProgram(maximization=True)\n",
    "\n",
    "kot = None\n",
    "t = 0\n",
    "dolzina = len(tocke)\n",
    "tocke2=list(range(dolzina))\n",
    "\n",
    "p.set_objective(p['k'])\n",
    "\n",
    "for j in range(1,360):\n",
    "    for k in range(len(tocke)):\n",
    "        xii = (cos(j*pi/180)*tocke[k][0]-sin(j*pi/180)*tocke[k][1])\n",
    "        yii = (sin(j*pi/180)*tocke[k][0]+cos(j*pi/180)*tocke[k][1])\n",
    "        tocke2[k] =[xii,yii]\n",
    "    for xi, yi in tocke2:\n",
    "        for ai, bi, ci in zip(a, b, c):\n",
    "            p.add_constraint(ai * (p['k'] * xi + p['x']) + bi * (p['k'] * yi + p['y']) <= ci)\n",
    "    r = p.solve()\n",
    "    if r > t:\n",
    "        t = r\n",
    "        kot = j\n",
    "        k, x, y = p.get_values(p['k']), p.get_values(p['x']), p.get_values(p['y'])\n",
    "        nove_tocke=[]\n",
    "        for tocka in tocke2:\n",
    "            tocka[0] = (tocka[0]*k+x).numerical_approx()\n",
    "            tocka[1] = (tocka[1]*k +y).numerical_approx()\n",
    "            nove_tocke.append(tocka)\n",
    "    p.remove_constraints(range(p.number_of_constraints()))\n",
    "print(t,kot,k,x,y,nove_tocke)"
   ]
  },
  {
   "cell_type": "code",
   "execution_count": 0,
   "metadata": {
    "collapsed": false
   },
   "outputs": [
   ],
   "source": [
   ]
  }
 ],
 "metadata": {
  "kernelspec": {
   "display_name": "SageMath 9.4",
   "language": "sagemath",
   "metadata": {
    "cocalc": {
     "description": "Open-source mathematical software system",
     "priority": 10,
     "url": "https://www.sagemath.org/"
    }
   },
   "name": "sage-9.4",
   "resource_dir": "/ext/jupyter/kernels/sage-9.4"
  },
  "language_info": {
   "codemirror_mode": {
    "name": "ipython",
    "version": 3
   },
   "file_extension": ".py",
   "mimetype": "text/x-python",
   "name": "python",
   "nbconvert_exporter": "python",
   "pygments_lexer": "ipython3",
   "version": "3.9.5"
  }
 },
 "nbformat": 4,
 "nbformat_minor": 4
}