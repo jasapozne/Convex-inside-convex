{
 "cells": [
  {
   "cell_type": "code",
   "execution_count": 14,
   "metadata": {
    "collapsed": false
   },
   "outputs": [
   ],
   "source": [
    "a = [-1, 0, 1,0]\n",
    "b = [0, -1, 0,1]\n",
    "c = [0, 0, 2,2]\n",
    "# krog = [sredisce,radij] \n",
    "krog=[(5,10),2]\n"
   ]
  },
  {
   "cell_type": "code",
   "execution_count": 15,
   "metadata": {
    "collapsed": false
   },
   "outputs": [
   ],
   "source": [
    "p = MixedIntegerLinearProgram(maximization=True)"
   ]
  },
  {
   "cell_type": "code",
   "execution_count": 16,
   "metadata": {
    "collapsed": false,
    "scrolled": true
   },
   "outputs": [
    {
     "data": {
      "text/plain": [
       "0.5000000000000007"
      ]
     },
     "execution_count": 16,
     "metadata": {
     },
     "output_type": "execute_result"
    }
   ],
   "source": [
    "p.set_objective(p['k'])\n",
    "\n",
    "x0,y0 = krog[0]\n",
    "radij  = krog[1]\n",
    "\n",
    "tocke=[(0,0),radij]\n",
    "for j in range(1,360):\n",
    "    xi = tocke[1]*cos(j*pi/180)\n",
    "    yi = tocke[1]*sin(j*pi/180)\n",
    "    for ai, bi, ci in zip(a, b, c):\n",
    "        p.add_constraint(ai * (p['k'] * xi + p['x']) + bi * (p['k'] * yi + p['y']) <= ci)\n",
    "p.solve()\n",
    "\n"
   ]
  },
  {
   "cell_type": "code",
   "execution_count": 17,
   "metadata": {
    "collapsed": false
   },
   "outputs": [
    {
     "name": "stdout",
     "output_type": "stream",
     "text": [
      "0.5000000000000007 (1.0, 0.9999999999999996) 1.0000000000000013\n"
     ]
    }
   ],
   "source": [
    "k, x, y = p.get_values(p['k']), p.get_values(p['x']), p.get_values(p['y'])\n",
    "nov_radij = radij * k\n",
    "premik_sredisca = (x-x0,y-y0)\n",
    "novo_sredisce = (x,y)\n",
    "print(k,novo_sredisce, nov_radij)"
   ]
  },
  {
   "cell_type": "code",
   "execution_count": 0,
   "metadata": {
    "collapsed": false
   },
   "outputs": [
   ],
   "source": [
   ]
  }
 ],
 "metadata": {
  "kernelspec": {
   "display_name": "SageMath 9.4",
   "language": "sagemath",
   "metadata": {
    "cocalc": {
     "description": "Open-source mathematical software system",
     "priority": 10,
     "url": "https://www.sagemath.org/"
    }
   },
   "name": "sage-9.4",
   "resource_dir": "/ext/jupyter/kernels/sage-9.4"
  },
  "language_info": {
   "codemirror_mode": {
    "name": "ipython",
    "version": 3
   },
   "file_extension": ".py",
   "mimetype": "text/x-python",
   "name": "python",
   "nbconvert_exporter": "python",
   "pygments_lexer": "ipython3",
   "version": "3.9.5"
  }
 },
 "nbformat": 4,
 "nbformat_minor": 4
}