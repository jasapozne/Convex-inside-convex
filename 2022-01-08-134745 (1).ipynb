{
 "cells": [
  {
   "cell_type": "code",
   "execution_count": 4,
   "metadata": {
    "collapsed": false
   },
   "outputs": [
   ],
   "source": [
    "a = [-1, 0, 1,0]\n",
    "b = [0, -1, 0,1]\n",
    "c = [0, 0, 2,2]\n",
    "# krog = [sredisce,radij]\n",
    "krog=[[5,10],2]\n",
    "tocke = [1,0]"
   ]
  },
  {
   "cell_type": "code",
   "execution_count": 5,
   "metadata": {
    "collapsed": false
   },
   "outputs": [
    {
     "data": {
      "text/plain": [
       "0.49999999999999933"
      ]
     },
     "execution_count": 5,
     "metadata": {
     },
     "output_type": "execute_result"
    }
   ],
   "source": [
    "p = MixedIntegerLinearProgram(maximization=True)\n",
    "p.set_objective(p['k'])\n",
    "\n",
    "x0,y0 = krog[0]\n",
    "radij  = krog[1]\n",
    "\n",
    "tocke=[0,radij]\n",
    "for j in range(1,360):\n",
    "    xi = (cos(j*pi/180)*tocke[0]-sin(j*pi/180)*tocke[1])\n",
    "    yi = (sin(j*pi/180)*tocke[0]+cos(j*pi/180)*tocke[1])\n",
    "    for ai, bi, ci in zip(a, b, c):\n",
    "        p.add_constraint(ai * (p['k'] * xi + p['x']) + bi * (p['k'] * yi + p['y']) <= ci)\n",
    "p.solve()\n"
   ]
  },
  {
   "cell_type": "code",
   "execution_count": 6,
   "metadata": {
    "collapsed": false
   },
   "outputs": [
    {
     "name": "stdout",
     "output_type": "stream",
     "text": [
      "0.49999999999999933 (1.0, 0.9999999999999998)\n"
     ]
    }
   ],
   "source": [
    "k, x, y = p.get_values(p['k']), p.get_values(p['x']), p.get_values(p['y'])\n",
    "nov_radij = radij * k\n",
    "novo_sredisce = (x,y)\n",
    "print(k,novo_sredisce)\n"
   ]
  },
  {
   "cell_type": "code",
   "execution_count": 0,
   "metadata": {
    "collapsed": false
   },
   "outputs": [
   ],
   "source": [
   ]
  }
 ],
 "metadata": {
  "kernelspec": {
   "display_name": "SageMath 9.4",
   "language": "sagemath",
   "metadata": {
    "cocalc": {
     "description": "Open-source mathematical software system",
     "priority": 10,
     "url": "https://www.sagemath.org/"
    }
   },
   "name": "sage-9.4",
   "resource_dir": "/ext/jupyter/kernels/sage-9.4"
  },
  "language_info": {
   "codemirror_mode": {
    "name": "ipython",
    "version": 3
   },
   "file_extension": ".py",
   "mimetype": "text/x-python",
   "name": "python",
   "nbconvert_exporter": "python",
   "pygments_lexer": "ipython3",
   "version": "3.9.5"
  }
 },
 "nbformat": 4,
 "nbformat_minor": 4
}